{
 "cells": [
  {
   "cell_type": "code",
   "execution_count": 15,
   "metadata": {},
   "outputs": [
    {
     "name": "stdout",
     "output_type": "stream",
     "text": [
      "-0.0005006265673999754\n",
      "-0.3994993734326\n",
      "-0.399499373432593\n",
      "-0.0005006265673999667\n"
     ]
    }
   ],
   "source": [
    "from math import sqrt\n",
    "a=5\n",
    "b=2\n",
    "c=0.001\n",
    "xp=((-b)+(sqrt((b*b)-(4*a*c))))/(2*a)\n",
    "xn=((-b)-(sqrt((b*b)-(4*a*c))))/(2*a)\n",
    "print(xp)\n",
    "print(xn)\n",
    "p=(2*c)/((-b)+(sqrt((b*b)-(4*a*c))))\n",
    "n=(2*c)/((-b)-(sqrt((b*b)-(4*a*c))))\n",
    "\n",
    "print(p)\n",
    "print(n)"
   ]
  },
  {
   "cell_type": "code",
   "execution_count": 14,
   "metadata": {},
   "outputs": [
    {
     "name": "stdout",
     "output_type": "stream",
     "text": [
      "-0.2928932188134524\n",
      "-1.7071067811865475\n",
      "-0.2928932188134525\n",
      "-1.7071067811865477\n"
     ]
    }
   ],
   "source": [
    "a=10\n",
    "b=20\n",
    "c=5\n",
    "xp=((-b)+(sqrt((b*b)-(4*a*c))))/(2*a)\n",
    "xn=((-b)-(sqrt((b*b)-(4*a*c))))/(2*a)\n",
    "print(xp)\n",
    "print(xn)\n",
    "p=(2*c)/((-b)-(sqrt((b*b)-(4*a*c))))\n",
    "n=(2*c)/((-b)+(sqrt((b*b)-(4*a*c))))\n",
    "\n",
    "print(p)\n",
    "print(n)"
   ]
  },
  {
   "cell_type": "code",
   "execution_count": 18,
   "metadata": {},
   "outputs": [
    {
     "ename": "SyntaxError",
     "evalue": "invalid syntax (<ipython-input-18-2883a304e1e1>, line 17)",
     "output_type": "error",
     "traceback": [
      "\u001b[0;36m  File \u001b[0;32m\"<ipython-input-18-2883a304e1e1>\"\u001b[0;36m, line \u001b[0;32m17\u001b[0m\n\u001b[0;31m    vip2=(((m*g)/c)*(1-(exp((c*t)/m)))\u001b[0m\n\u001b[0m       ^\u001b[0m\n\u001b[0;31mSyntaxError\u001b[0m\u001b[0;31m:\u001b[0m invalid syntax\n"
     ]
    }
   ],
   "source": [
    "from mat import exp \n",
    "m=2\n",
    "c=12.5\n",
    "g=9.81\n",
    "vnum=[]\n",
    "vnum2=[]\n",
    "vnum3=[]\n",
    "vnum4=[]\n",
    "vana=[]\n",
    "time=[]\n",
    "Xt=1\n",
    "vo=0\n",
    "vip1=vo+(((c*vo)/m)-g)*xt\n",
    "for t in range(21):\n",
    "    vnum.appened(vipl)\n",
    "    vip1=vip1+(((c*vip1)/m)-g*xt\n",
    "    vip2=(((m*g)/c)*(1-(exp((c*t)/m)))\n",
    "    vana.appened(vip2)      \n",
    "               \n",
    "xt=0.001\n",
    "temp=[]\n",
    "vip1=vo+(((c*vo)/m)-g)*xt\n",
    "temp=.appened(xt)\n",
    "for t in range(2001):\n",
    "    temp.appened(xt)\n",
    "    vnum2.appened(vip1)\n",
    "    vip1=vip1+(((c*vip1)/m)-g)*xt\n",
    "xt=1e-10\n",
    "vip1=vo+(((c*vo)/m)-g)*xt\n",
    "for t in range(201):\n",
    "          temp.appened(xt)\n",
    "          vnum3.appened(vip1)\n",
    "          vip1=vip1|+(((c*vip1)/m)-g)*xt\n",
    "xt=1e-10\n",
    "vip1=vo+(((c*vo)/m)-g)*xt\n",
    "for t in range(201):          "
   ]
  },
  {
   "cell_type": "code",
   "execution_count": 21,
   "metadata": {},
   "outputs": [],
   "source": [
    "from pylab import plot,show\n"
   ]
  },
  {
   "cell_type": "code",
   "execution_count": 28,
   "metadata": {},
   "outputs": [
    {
     "ename": "NameError",
     "evalue": "name 'temp' is not defined",
     "output_type": "error",
     "traceback": [
      "\u001b[0;31m---------------------------------------------------------------------------\u001b[0m",
      "\u001b[0;31mNameError\u001b[0m                                 Traceback (most recent call last)",
      "\u001b[0;32m<ipython-input-28-180e5f27357b>\u001b[0m in \u001b[0;36m<module>\u001b[0;34m\u001b[0m\n\u001b[0;32m----> 1\u001b[0;31m \u001b[0mplot\u001b[0m\u001b[0;34m(\u001b[0m\u001b[0mtemp\u001b[0m\u001b[0;34m,\u001b[0m\u001b[0mvnum\u001b[0m\u001b[0;34m,\u001b[0m\u001b[0;34m\"k\"\u001b[0m\u001b[0;34m)\u001b[0m\u001b[0;34m\u001b[0m\u001b[0m\n\u001b[0m\u001b[1;32m      2\u001b[0m \u001b[0mplot\u001b[0m\u001b[0;34m(\u001b[0m\u001b[0mtemp\u001b[0m\u001b[0;34m,\u001b[0m\u001b[0mvana\u001b[0m\u001b[0;34m,\u001b[0m\u001b[0;34m\"k\"\u001b[0m\u001b[0;34m)\u001b[0m\u001b[0;34m\u001b[0m\u001b[0m\n\u001b[1;32m      3\u001b[0m \u001b[0mplot\u001b[0m\u001b[0;34m(\u001b[0m\u001b[0mtemp\u001b[0m\u001b[0;34m,\u001b[0m\u001b[0mvnum\u001b[0m\u001b[0;34m,\u001b[0m\u001b[0;34m\"k\"\u001b[0m\u001b[0;34m)\u001b[0m\u001b[0;34m\u001b[0m\u001b[0m\n\u001b[1;32m      4\u001b[0m \u001b[0mplot\u001b[0m\u001b[0;34m(\u001b[0m\u001b[0mtemp\u001b[0m\u001b[0;34m,\u001b[0m\u001b[0mvnum2\u001b[0m\u001b[0;34m,\u001b[0m\u001b[0;34m\"k\"\u001b[0m\u001b[0;34m)\u001b[0m\u001b[0;34m\u001b[0m\u001b[0m\n\u001b[1;32m      5\u001b[0m \u001b[0mplot\u001b[0m\u001b[0;34m(\u001b[0m\u001b[0mtemp\u001b[0m\u001b[0;34m,\u001b[0m\u001b[0mvnum3\u001b[0m\u001b[0;34m,\u001b[0m\u001b[0;34m\"k\"\u001b[0m\u001b[0;34m)\u001b[0m\u001b[0;34m\u001b[0m\u001b[0m\n",
      "\u001b[0;31mNameError\u001b[0m: name 'temp' is not defined"
     ]
    }
   ],
   "source": [
    "plot(temp,vnum,\"k\")\n",
    "plot(,vnum,\"k\")\n",
    "plot(temp,vnum2,\"k\")\n",
    "plot(temp,vnum3,\"k\")"
   ]
  },
  {
   "cell_type": "code",
   "execution_count": null,
   "metadata": {},
   "outputs": [],
   "source": []
  }
 ],
 "metadata": {
  "kernelspec": {
   "display_name": "Python 3",
   "language": "python",
   "name": "python3"
  },
  "language_info": {
   "codemirror_mode": {
    "name": "ipython",
    "version": 3
   },
   "file_extension": ".py",
   "mimetype": "text/x-python",
   "name": "python",
   "nbconvert_exporter": "python",
   "pygments_lexer": "ipython3",
   "version": "3.5.2"
  }
 },
 "nbformat": 4,
 "nbformat_minor": 2
}
